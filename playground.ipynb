{
 "cells": [
  {
   "cell_type": "code",
   "execution_count": 29,
   "metadata": {},
   "outputs": [],
   "source": [
    "import pandas as pd\n",
    "import yfinance as yf\n",
    "import time\n",
    "import datetime\n",
    "from openpyxl import load_workbook\n",
    "\n",
    "pd.set_option('display.max_rows', None)"
   ]
  },
  {
   "cell_type": "code",
   "execution_count": 34,
   "metadata": {},
   "outputs": [
    {
     "name": "stdout",
     "output_type": "stream",
     "text": [
      "today: 2020-06-25, yesterday: 2020-06-24\n"
     ]
    }
   ],
   "source": [
    "today = datetime.date.today().strftime('%Y-%m-%d')\n",
    "yesterday =  datetime.datetime.now() - datetime.timedelta(days=1)\n",
    "yesterday = yesterday.strftime('%Y-%m-%d')\n",
    "print(\"today: {}, yesterday: {}\".format(today, yesterday))"
   ]
  },
  {
   "cell_type": "code",
   "execution_count": 13,
   "metadata": {},
   "outputs": [],
   "source": [
    "def UpdateStockPricing(): \n",
    "    \n",
    "    filename = \"Combined BoA-ML Portfolios 6-30-20 v.1.xlsx\"\n",
    "    data = pd.ExcelFile(filename)\n",
    "    sheet3 = data.parse(\"Sheet3\")\n",
    "\n",
    "    ticker_syms = sheet3[\"Ticker Symbols\"][1:220].str.strip()\n",
    "    stocks = []\n",
    "    \n",
    "    for tickr in ticker_syms:\n",
    "        tkr = yf.Ticker(tickr).history(period=\"1d\")\n",
    "        print(tickr)\n",
    "        print(tkr[\"Close\"])\n",
    "        print(\"-\"*80)\n",
    "        try:\n",
    "            stocks.append(tkr[\"Close\"].iloc[0])\n",
    "        except IndexError:\n",
    "            stocks.append(\"Price currently unavailable\")\n",
    "        except JSONDecodeError:\n",
    "            stocks.append(\"Price currently unavailable\")\n",
    "        time.sleep(.5)\n",
    "        \n",
    "    df = pd.DataFrame({'End of Mo Price': stocks})\n",
    "    \n",
    "    df.to_csv(\"Final_test.csv\")\n",
    "    # writer = pd.ExcelWriter(filename, engine='openpyxl')\n",
    "    # writer.book = load_workbook(filename, read_only=False, keep_vba=True)\n",
    "    # writer.sheets = dict((ws.title, ws) for ws in writer.book.worksheets)\n",
    "\n",
    "    # df.to_excel(writer, sheet_name='Sheet3', header=None, index=False,\n",
    "    #         startcol=2,startrow=2)\n",
    "\n",
    "    # writer.save()"
   ]
  },
  {
   "cell_type": "code",
   "execution_count": 14,
   "metadata": {
    "scrolled": true
   },
   "outputs": [],
   "source": [
    "#UpdateStockPricing()"
   ]
  },
  {
   "cell_type": "code",
   "execution_count": 15,
   "metadata": {},
   "outputs": [],
   "source": [
    "filename = \"Combined BoA-ML Portfolios 6-30-20 v.1.xlsx\"\n",
    "data = pd.ExcelFile(filename)\n",
    "sheet3 = data.parse(\"Sheet3\")\n",
    "\n",
    "raw = sheet3[[\"Stock Name\", \"Ticker Symbols\"]][:408]\n",
    "all_syms = raw.dropna() "
   ]
  },
  {
   "cell_type": "code",
   "execution_count": 16,
   "metadata": {
    "scrolled": true
   },
   "outputs": [
    {
     "data": {
      "text/plain": [
       "204"
      ]
     },
     "execution_count": 16,
     "metadata": {},
     "output_type": "execute_result"
    }
   ],
   "source": [
    "test = sheet3[\"Ticker Symbols\"][:408]\n",
    "test = test.dropna().str.strip().drop_duplicates()\n",
    "len(test)"
   ]
  },
  {
   "cell_type": "code",
   "execution_count": 36,
   "metadata": {},
   "outputs": [
    {
     "data": {
      "text/plain": [
       "['AAPL', 'ABT', 'ACWV', 'ADBE', 'ADI']"
      ]
     },
     "execution_count": 36,
     "metadata": {},
     "output_type": "execute_result"
    }
   ],
   "source": [
    "list(test[:5])"
   ]
  },
  {
   "cell_type": "code",
   "execution_count": 63,
   "metadata": {},
   "outputs": [
    {
     "name": "stdout",
     "output_type": "stream",
     "text": [
      "[*********************100%***********************]  5 of 5 completed\n"
     ]
    }
   ],
   "source": [
    "All_Tks_Raw = yf.download(list(test[:5]), start='2020-06-18', end=today, progress=True)\n",
    "All_Tks = All_Tks_Raw[\"Adj Close\"].transpose()"
   ]
  },
  {
   "cell_type": "code",
   "execution_count": 64,
   "metadata": {},
   "outputs": [
    {
     "data": {
      "text/html": [
       "<div>\n",
       "<style scoped>\n",
       "    .dataframe tbody tr th:only-of-type {\n",
       "        vertical-align: middle;\n",
       "    }\n",
       "\n",
       "    .dataframe tbody tr th {\n",
       "        vertical-align: top;\n",
       "    }\n",
       "\n",
       "    .dataframe thead th {\n",
       "        text-align: right;\n",
       "    }\n",
       "</style>\n",
       "<table border=\"1\" class=\"dataframe\">\n",
       "  <thead>\n",
       "    <tr style=\"text-align: right;\">\n",
       "      <th>Date</th>\n",
       "      <th>2020-06-18</th>\n",
       "      <th>2020-06-19</th>\n",
       "      <th>2020-06-22</th>\n",
       "      <th>2020-06-23</th>\n",
       "      <th>2020-06-24</th>\n",
       "    </tr>\n",
       "  </thead>\n",
       "  <tbody>\n",
       "    <tr>\n",
       "      <th>AAPL</th>\n",
       "      <td>351.730011</td>\n",
       "      <td>349.720001</td>\n",
       "      <td>358.869995</td>\n",
       "      <td>366.529999</td>\n",
       "      <td>360.059998</td>\n",
       "    </tr>\n",
       "    <tr>\n",
       "      <th>ABT</th>\n",
       "      <td>90.279999</td>\n",
       "      <td>90.680000</td>\n",
       "      <td>90.339996</td>\n",
       "      <td>91.300003</td>\n",
       "      <td>87.300003</td>\n",
       "    </tr>\n",
       "    <tr>\n",
       "      <th>ACWV</th>\n",
       "      <td>88.279999</td>\n",
       "      <td>87.730003</td>\n",
       "      <td>88.300003</td>\n",
       "      <td>88.160004</td>\n",
       "      <td>86.830002</td>\n",
       "    </tr>\n",
       "    <tr>\n",
       "      <th>ADBE</th>\n",
       "      <td>420.459991</td>\n",
       "      <td>428.010010</td>\n",
       "      <td>438.640015</td>\n",
       "      <td>440.549988</td>\n",
       "      <td>431.679993</td>\n",
       "    </tr>\n",
       "    <tr>\n",
       "      <th>ADI</th>\n",
       "      <td>122.809998</td>\n",
       "      <td>120.180000</td>\n",
       "      <td>120.500000</td>\n",
       "      <td>123.250000</td>\n",
       "      <td>119.470001</td>\n",
       "    </tr>\n",
       "  </tbody>\n",
       "</table>\n",
       "</div>"
      ],
      "text/plain": [
       "Date  2020-06-18  2020-06-19  2020-06-22  2020-06-23  2020-06-24\n",
       "AAPL  351.730011  349.720001  358.869995  366.529999  360.059998\n",
       "ABT    90.279999   90.680000   90.339996   91.300003   87.300003\n",
       "ACWV   88.279999   87.730003   88.300003   88.160004   86.830002\n",
       "ADBE  420.459991  428.010010  438.640015  440.549988  431.679993\n",
       "ADI   122.809998  120.180000  120.500000  123.250000  119.470001"
      ]
     },
     "execution_count": 64,
     "metadata": {},
     "output_type": "execute_result"
    }
   ],
   "source": [
    "All_Tks"
   ]
  },
  {
   "cell_type": "code",
   "execution_count": 72,
   "metadata": {},
   "outputs": [
    {
     "data": {
      "text/plain": [
       "datetime.time(7, 26, 58, 966295)"
      ]
     },
     "execution_count": 72,
     "metadata": {},
     "output_type": "execute_result"
    }
   ],
   "source": [
    "#All_Tks.drop(['2020-06-25'], axis=1)\n",
    "#All_Tks = All_Tks['2020-06-24'] \n",
    "cur = datetime.datetime.now().time()\n",
    "cur"
   ]
  },
  {
   "cell_type": "code",
   "execution_count": 62,
   "metadata": {},
   "outputs": [
    {
     "data": {
      "text/plain": [
       "AAPL      360.059998\n",
       "ABT        87.300003\n",
       "ACWV       86.830002\n",
       "ADBE      431.679993\n",
       "ADI       119.470001\n",
       "AIVSX      37.209999\n",
       "AMGN      232.509995\n",
       "AMZN     2734.399902\n",
       "AOS        45.110001\n",
       "APH        94.610001\n",
       "ASYLX      12.620000\n",
       "ATVI       75.580002\n",
       "AVGO      306.970001\n",
       "AVY       112.290001\n",
       "AWK       124.400002\n",
       "BAC        23.809999\n",
       "BAH        77.199997\n",
       "BAX        82.470001\n",
       "BDX       232.809998\n",
       "BLK       538.570007\n",
       "BLUE       63.619999\n",
       "BMY        57.759998\n",
       "BP         23.139999\n",
       "BR        122.699997\n",
       "BRK-B     177.529999\n",
       "BRKB      177.529999\n",
       "BSPAX     362.480011\n",
       "BSX        33.849998\n",
       "BWXT       55.900002\n",
       "C          50.810001\n",
       "CASY      149.229996\n",
       "CAT       122.059998\n",
       "CDK        39.889999\n",
       "CHD        76.250000\n",
       "CLX       212.029999\n",
       "CMCSA      38.560001\n",
       "CMGUX       9.040000\n",
       "COST      298.019989\n",
       "CRM       185.550003\n",
       "CSCO       44.750000\n",
       "CSX        67.500000\n",
       "CTSH       53.799999\n",
       "CVS        63.180000\n",
       "CVX        87.639999\n",
       "DCI        43.080002\n",
       "DD         51.540001\n",
       "DE        150.490005\n",
       "DG        191.850006\n",
       "DIS       112.070000\n",
       "DNKN       63.700001\n",
       "DORM       65.980003\n",
       "DOX        60.080002\n",
       "EA        130.869995\n",
       "EFA        60.540001\n",
       "EFX       166.169998\n",
       "EGFIX      43.650002\n",
       "EPAM      247.500000\n",
       "ETN        84.010002\n",
       "ETR        93.510002\n",
       "EW         67.489998\n",
       "EXPD       73.620003\n",
       "FAF        47.869999\n",
       "FANG       41.900002\n",
       "FB        234.020004\n",
       "FDN       168.789993\n",
       "FHB        16.809999\n",
       "FLIR       38.939999\n",
       "FRC       105.570000\n",
       "GIS        60.290001\n",
       "GL         71.190002\n",
       "GOOG     1431.969971\n",
       "GOOGL    1432.699951\n",
       "GPC        84.669998\n",
       "GSDUX      10.750000\n",
       "HAS        70.940002\n",
       "HBAN        9.540000\n",
       "HD        246.130005\n",
       "HDS        33.294998\n",
       "HELE      181.169998\n",
       "HES        48.959999\n",
       "HON       138.350006\n",
       "HPP        23.870001\n",
       "HRC       101.680000\n",
       "HSIC       56.180000\n",
       "HSY       127.980003\n",
       "HUBB      118.959999\n",
       "HUN        17.570000\n",
       "HXL        41.770000\n",
       "IAA        39.080002\n",
       "IBB       136.399994\n",
       "ICE        90.709999\n",
       "IDXX      319.380005\n",
       "IEO        32.919998\n",
       "IHI       255.690002\n",
       "IJJ       129.199997\n",
       "INTC       59.090000\n",
       "INTU      286.130005\n",
       "ISRG      554.960022\n",
       "IT        115.660004\n",
       "ITB        43.000000\n",
       "ITW       169.029999\n",
       "IWF       188.949997\n",
       "IWM       138.330002\n",
       "IWR        52.380001\n",
       "JNJ       139.820007\n",
       "JPM        94.660004\n",
       "JPST       50.740002\n",
       "KIE        26.719999\n",
       "KO         44.650002\n",
       "LBRDK     123.989998\n",
       "LHX       168.240005\n",
       "LLY       157.029999\n",
       "LMT       359.820007\n",
       "LSXMK      33.860001\n",
       "LYB        60.639999\n",
       "MA        294.010010\n",
       "MCD       184.289993\n",
       "MDLOX      19.129999\n",
       "MDLZ       50.639999\n",
       "MDT        88.349998\n",
       "MKL       895.150024\n",
       "MRK        75.870003\n",
       "MRSKX      18.299999\n",
       "MRVL       33.630001\n",
       "MS         46.950001\n",
       "MSFT      197.839996\n",
       "MTB       102.919998\n",
       "MTUM      128.460007\n",
       "NFLX      457.850006\n",
       "NI         22.400000\n",
       "NKE       100.080002\n",
       "NOC       301.910004\n",
       "NRG        32.570000\n",
       "NSP        61.500000\n",
       "NUVA       54.860001\n",
       "NVDA      369.420013\n",
       "NVS        88.800003\n",
       "OLLI       97.940002\n",
       "OTIS       55.540001\n",
       "PANW      223.399994\n",
       "PBF        10.690000\n",
       "PFE        32.189999\n",
       "PG        116.419998\n",
       "PLD        89.800003\n",
       "PM         70.089996\n",
       "PPL        25.520000\n",
       "PTY        15.430000\n",
       "PXD        92.160004\n",
       "PYPL      168.000000\n",
       "QCOM       89.139999\n",
       "QQQ       243.710007\n",
       "QUAL       94.669998\n",
       "RGEN      113.139999\n",
       "RHHBY      43.540001\n",
       "RSP        99.459999\n",
       "RTX        61.720001\n",
       "SBUX       73.639999\n",
       "SEDG      148.479996\n",
       "SHW       566.650024\n",
       "SON        49.779999\n",
       "SPY       304.269989\n",
       "SRE       118.995003\n",
       "SSNC       55.490002\n",
       "STOR       23.780001\n",
       "SUI       137.770004\n",
       "SYY        54.880001\n",
       "T          29.420000\n",
       "TCEHY      62.970001\n",
       "TDOC      197.009995\n",
       "TFC        37.660000\n",
       "TGT       119.720001\n",
       "TMUS      108.430000\n",
       "TXN       123.989998\n",
       "UI        166.669998\n",
       "ULTA      200.000000\n",
       "UNH       289.179993\n",
       "UNP       165.550003\n",
       "USMV       59.570000\n",
       "V         191.410004\n",
       "VFH        56.480000\n",
       "VGT       272.459991\n",
       "VLO        58.020000\n",
       "VMC       118.059998\n",
       "VTI       154.479996\n",
       "VUG       199.259995\n",
       "VZ         53.930000\n",
       "WAT       177.360001\n",
       "WMT       120.300003\n",
       "WSO       170.559998\n",
       "WWD        72.849998\n",
       "XBI       111.419998\n",
       "XEL        63.680000\n",
       "XLB        54.570000\n",
       "XLC        54.650002\n",
       "XLE        37.110001\n",
       "XLI        66.650002\n",
       "XLP        57.910000\n",
       "XLRE       33.959999\n",
       "XLU        56.470001\n",
       "XLV        97.720001\n",
       "XLY       126.550003\n",
       "XRAY       42.860001\n",
       "Y         467.079987\n",
       "ZBH       118.220001\n",
       "Name: 2020-06-24 00:00:00, dtype: float64"
      ]
     },
     "execution_count": 62,
     "metadata": {},
     "output_type": "execute_result"
    }
   ],
   "source": [
    "All_Tks"
   ]
  },
  {
   "cell_type": "code",
   "execution_count": null,
   "metadata": {},
   "outputs": [],
   "source": []
  }
 ],
 "metadata": {
  "kernelspec": {
   "display_name": "Python 3",
   "language": "python",
   "name": "python3"
  },
  "language_info": {
   "codemirror_mode": {
    "name": "ipython",
    "version": 3
   },
   "file_extension": ".py",
   "mimetype": "text/x-python",
   "name": "python",
   "nbconvert_exporter": "python",
   "pygments_lexer": "ipython3",
   "version": "3.7.3"
  }
 },
 "nbformat": 4,
 "nbformat_minor": 4
}
